{
  "nbformat": 4,
  "nbformat_minor": 0,
  "metadata": {
    "colab": {
      "provenance": [],
      "authorship_tag": "ABX9TyMrpQx6vdLfdiTyfWC+WhkM",
      "include_colab_link": true
    },
    "kernelspec": {
      "name": "python3",
      "display_name": "Python 3"
    },
    "language_info": {
      "name": "python"
    }
  },
  "cells": [
    {
      "cell_type": "markdown",
      "metadata": {
        "id": "view-in-github",
        "colab_type": "text"
      },
      "source": [
        "<a href=\"https://colab.research.google.com/github/derwinhauser/IntroPython/blob/main/MatrixGraph.ipynb\" target=\"_parent\"><img src=\"https://colab.research.google.com/assets/colab-badge.svg\" alt=\"Open In Colab\"/></a>"
      ]
    },
    {
      "cell_type": "code",
      "execution_count": null,
      "metadata": {
        "id": "0U0uNPuTJdPp"
      },
      "outputs": [],
      "source": [
        "adj_matrix = [[0, 0, 1, 0, 2],\n",
        "              [0, 0, 0, 7, 1],\n",
        "              [1, 0, 0, 1, 0],\n",
        "              [0, 7, 1, 0, 2],\n",
        "              [2, 1, 0, 2, 0]\n",
        "              ]"
      ]
    },
    {
      "cell_type": "code",
      "source": [
        "class Graph:\n",
        "    def __init__(self, size):\n",
        "      self.size = size\n",
        "      self.vert_name = {}\n",
        "      self.adj_matrix = []\n",
        "      for row in range(size):\n",
        "        self.adj_matrix.append([])\n",
        "        for col in range(size):\n",
        "          self.adj_matrix[row].append(0)\n",
        "    def add_edge(self, vert_i, vert_j, weight):\n",
        "      self.adj_matrix[vert_i][vert_j] = weight\n",
        "    def add_vertice_name(self, vert_i, name):\n",
        "      self.vert_name = {vert_i: name}\n",
        "    def printgraph(self):\n",
        "      for row in range(self.size):\n",
        "        print(self.adj_matrix[row])\n",
        "\n",
        "my_graph = Graph(6)\n",
        "\n",
        "my_graph.add_edge(2, 2, 5)\n",
        "\n",
        "my_graph.add_vertice_name(0, \"A\")\n",
        "\n",
        "my_graph.printgraph()"
      ],
      "metadata": {
        "colab": {
          "base_uri": "https://localhost:8080/"
        },
        "id": "ze7Qj1HUJ67c",
        "outputId": "e8ce90df-5c7b-4097-fec9-a253cc02c1e3"
      },
      "execution_count": null,
      "outputs": [
        {
          "output_type": "stream",
          "name": "stdout",
          "text": [
            "{0: 'A'}\n",
            "[0, 0, 0, 0, 0, 0]\n",
            "[0, 0, 0, 0, 0, 0]\n",
            "[0, 0, 5, 0, 0, 0]\n",
            "[0, 0, 0, 0, 0, 0]\n",
            "[0, 0, 0, 0, 0, 0]\n",
            "[0, 0, 0, 0, 0, 0]\n"
          ]
        }
      ]
    }
  ]
}