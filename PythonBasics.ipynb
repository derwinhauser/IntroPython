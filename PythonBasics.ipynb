{
  "nbformat": 4,
  "nbformat_minor": 0,
  "metadata": {
    "colab": {
      "provenance": [],
      "authorship_tag": "ABX9TyM3VOTd7BlEXLOpMbh5iJaq",
      "include_colab_link": true
    },
    "kernelspec": {
      "name": "python3",
      "display_name": "Python 3"
    },
    "language_info": {
      "name": "python"
    }
  },
  "cells": [
    {
      "cell_type": "markdown",
      "metadata": {
        "id": "view-in-github",
        "colab_type": "text"
      },
      "source": [
        "<a href=\"https://colab.research.google.com/github/derwinhauser/IntroPython/blob/main/PythonBasics.ipynb\" target=\"_parent\"><img src=\"https://colab.research.google.com/assets/colab-badge.svg\" alt=\"Open In Colab\"/></a>"
      ]
    },
    {
      "cell_type": "code",
      "execution_count": null,
      "metadata": {
        "colab": {
          "base_uri": "https://localhost:8080/"
        },
        "id": "lOXaDa_o446Y",
        "outputId": "b215163b-2baf-4420-8f31-8fa4713aad38"
      },
      "outputs": [
        {
          "output_type": "stream",
          "name": "stdout",
          "text": [
            "Hello World!\n"
          ]
        }
      ],
      "source": [
        "def main():\n",
        "  print('Hello World!')\n",
        "main()"
      ]
    },
    {
      "cell_type": "markdown",
      "source": [
        "### This Notebook Shows Python Basics\n",
        "\n",
        "Colab & Jupyter provides the ability to make **notebooks**. Notebooks allow you to create *text* and *code* cells. Text cells support MarkDown. Code cells require python.\n",
        "\n",
        "**Python Datatypes**\n",
        "* int\n",
        "* str\n",
        "* float\n",
        "* bool"
      ],
      "metadata": {
        "id": "h7prSzog9OuF"
      }
    },
    {
      "cell_type": "code",
      "source": [
        "x = 5           #int\n",
        "s = 'hello'     #str\n",
        "temp = 98.6     #float\n",
        "iAmSam = False  #bool\n",
        "print(x + temp)"
      ],
      "metadata": {
        "colab": {
          "base_uri": "https://localhost:8080/"
        },
        "id": "PeJZxbVIM8Bv",
        "outputId": "0baf886f-8774-4c5b-cbdb-82733e72794f"
      },
      "execution_count": null,
      "outputs": [
        {
          "output_type": "stream",
          "name": "stdout",
          "text": [
            "103.6\n"
          ]
        }
      ]
    },
    {
      "cell_type": "markdown",
      "source": [
        "**Python Collection Types**\n",
        "* list - ordered, indexed, like an array, mutable\n",
        "* tuple - immutable list\n",
        "* dict - a hashtable, a set of key, value data pairs"
      ],
      "metadata": {
        "id": "DNr7d7nZNa70"
      }
    },
    {
      "cell_type": "code",
      "source": [
        "my_list = ['I', 'Love', 'CIS']\n",
        "my_list[2] = 'Finance'\n",
        "print(my_list[2])\n",
        "my_list2 = [3, 'hello', 'frogs', 4.3, True]\n",
        "my_tuple = ('Purple', 'Eagles')\n",
        "\n",
        "example_dict = {'triangle':3, 'square':4, 'septagon':7}\n",
        "example_dict['decagon'] = 10\n",
        "print(example_dict['septagon'])"
      ],
      "metadata": {
        "colab": {
          "base_uri": "https://localhost:8080/"
        },
        "id": "nFEYcZ_9NxIm",
        "outputId": "451f528e-9eb4-44dd-83b9-79cdd6d55a61"
      },
      "execution_count": null,
      "outputs": [
        {
          "output_type": "stream",
          "name": "stdout",
          "text": [
            "Finance\n",
            "7\n"
          ]
        }
      ]
    },
    {
      "cell_type": "markdown",
      "source": [
        "list index function:\n",
        "my_list.index(target)\n",
        "This function will return the index\n",
        "(starting with 0) of the first occurance of target in the list.\n",
        "\n",
        "**len(list)** : the len function will return the number of elements in a list.\n",
        "\n",
        "Dynamic properties of a list:\n",
        "\n",
        "* **pop** - removes the item from the list at the given index, defaults to last item in list; returns the popped element\n",
        "\n",
        "* **append** - adds an item to a list"
      ],
      "metadata": {
        "id": "ifcUGV-uTxle"
      }
    },
    {
      "cell_type": "code",
      "source": [
        "a = []\n",
        "x = a.append('GO')\n",
        "a.append('PURPLE')\n",
        "a.append('EAGLES')\n",
        "\n",
        "print(x)\n",
        "print(a)\n",
        "len(a)"
      ],
      "metadata": {
        "id": "ydjgJnNwWe-a",
        "outputId": "f9b75659-3366-4fdb-f995-625672ac1a5f",
        "colab": {
          "base_uri": "https://localhost:8080/"
        }
      },
      "execution_count": 23,
      "outputs": [
        {
          "output_type": "stream",
          "name": "stdout",
          "text": [
            "None\n",
            "['GO', 'PURPLE', 'EAGLES']\n"
          ]
        },
        {
          "output_type": "execute_result",
          "data": {
            "text/plain": [
              "3"
            ]
          },
          "metadata": {},
          "execution_count": 23
        }
      ]
    },
    {
      "cell_type": "code",
      "source": [
        "y = a.pop()\n",
        "print(y)\n",
        "print(a)"
      ],
      "metadata": {
        "id": "W-Z5Q9P9W7Ny",
        "outputId": "69150805-2c0b-457f-e4df-3b56bcc633fa",
        "colab": {
          "base_uri": "https://localhost:8080/"
        }
      },
      "execution_count": 22,
      "outputs": [
        {
          "output_type": "stream",
          "name": "stdout",
          "text": [
            "EAGLES\n",
            "['GO', 'PURPLE']\n"
          ]
        }
      ]
    },
    {
      "cell_type": "code",
      "source": [
        "list_a = ['a', 1, True, 'Frog', 'cat']\n",
        "target = 'Frog' # what is index?\n",
        "i = 0\n",
        "for element in list_a:\n",
        "  if element == target:\n",
        "    break\n",
        "  else:\n",
        "    i = i + 1\n",
        "print(i)\n",
        "\n",
        "print(list_a.index(target))"
      ],
      "metadata": {
        "id": "NVEqiCn7UAfz",
        "outputId": "cfe3149e-4e82-4787-8e3f-6ccf946d85f4",
        "colab": {
          "base_uri": "https://localhost:8080/"
        }
      },
      "execution_count": 8,
      "outputs": [
        {
          "output_type": "stream",
          "name": "stdout",
          "text": [
            "3\n",
            "3\n"
          ]
        }
      ]
    },
    {
      "cell_type": "markdown",
      "source": [
        "###AI AGENT NOTES\n",
        "\n",
        "**the representation problem** - how to represent a problem in a programming language.\n"
      ],
      "metadata": {
        "id": "hxxdVcbNB7va"
      }
    },
    {
      "cell_type": "markdown",
      "source": [
        "#The Representation Problem\n",
        "How do we code states and actions of a real world problem in a programming language.\n",
        "\n",
        "**PEAS**\n",
        "\n",
        "* Performance measure\n",
        "* Environment\n",
        "  * includes state and\n",
        "  * rules for how actions update the state\n",
        "* Actions\n",
        "* Sensors - the portion of the world state that the agent can see\n",
        "\n",
        "continuous vs. discreet"
      ],
      "metadata": {
        "id": "5FUXfyQfPk0V"
      }
    },
    {
      "cell_type": "code",
      "source": [
        "#STATE\n",
        "farmer_is_on_top = True\n",
        "wolf_is_on_top = True\n",
        "sheep_is_on_top = True\n",
        "oats_is_on_top = True\n",
        "\n",
        "oats_is_intact = True\n",
        "sheep_is_alive = True\n",
        "\n",
        "def print_state():\n",
        "  \"\"\" Prints all the parties on top of river bank, followed by =======,\n",
        "  then all parties below the river bank \"\"\"\n",
        "  # TOP OF RIVER BANK\n",
        "  if farmer_is_on_top:\n",
        "    print('FARMER')\n",
        "  if wolf_is_on_top:\n",
        "    print('WOLF')\n",
        "  if sheep_is_on_top:\n",
        "    print('SHEEP')\n",
        "  if oats_is_on_top:\n",
        "    print('OATS')\n",
        "\n",
        " # RIVERBANK\n",
        "  print('==================')\n",
        "\n",
        "  # BOTTOM OF RIVER BANK\n",
        "  if farmer_is_on_top == False:\n",
        "    print('FARMER')\n",
        "  if wolf_is_on_top == False:\n",
        "    print('WOLF')\n",
        "  if sheep_is_on_top == False:\n",
        "    print('SHEEP')\n",
        "  if oats_is_on_top == False:\n",
        "    print('OATS')\n",
        "  #ACTIONS\n",
        "\n",
        "def move(thing):\n",
        "  \"\"\" Updates STATE variables given that the farmer moves thing.\n",
        "  thing must be one of 'wolf', 'sheep', 'oats' \"\"\"\n",
        "  # TODO\n",
        "\n",
        "\n",
        "###########\n",
        "print_state()"
      ],
      "metadata": {
        "colab": {
          "base_uri": "https://localhost:8080/"
        },
        "id": "0xpMbcRqR2yO",
        "outputId": "83e7289f-07ba-4fa6-f65e-8036fe602040"
      },
      "execution_count": null,
      "outputs": [
        {
          "output_type": "stream",
          "name": "stdout",
          "text": [
            "FARMER\n",
            "WOLF\n",
            "SHEEP\n",
            "OATS\n",
            "==================\n"
          ]
        }
      ]
    }
  ]
}