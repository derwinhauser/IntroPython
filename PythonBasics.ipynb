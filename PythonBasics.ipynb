{
  "nbformat": 4,
  "nbformat_minor": 0,
  "metadata": {
    "colab": {
      "provenance": [],
      "authorship_tag": "ABX9TyNYrvCcoECvv3k1RG+iaKas",
      "include_colab_link": true
    },
    "kernelspec": {
      "name": "python3",
      "display_name": "Python 3"
    },
    "language_info": {
      "name": "python"
    }
  },
  "cells": [
    {
      "cell_type": "markdown",
      "metadata": {
        "id": "view-in-github",
        "colab_type": "text"
      },
      "source": [
        "<a href=\"https://colab.research.google.com/github/derwinhauser/IntroPython/blob/main/PythonBasics.ipynb\" target=\"_parent\"><img src=\"https://colab.research.google.com/assets/colab-badge.svg\" alt=\"Open In Colab\"/></a>"
      ]
    },
    {
      "cell_type": "code",
      "execution_count": null,
      "metadata": {
        "colab": {
          "base_uri": "https://localhost:8080/"
        },
        "id": "lOXaDa_o446Y",
        "outputId": "b215163b-2baf-4420-8f31-8fa4713aad38"
      },
      "outputs": [
        {
          "output_type": "stream",
          "name": "stdout",
          "text": [
            "Hello World!\n"
          ]
        }
      ],
      "source": [
        "def main():\n",
        "  print('Hello World!')\n",
        "main()"
      ]
    },
    {
      "cell_type": "markdown",
      "source": [
        "### This Notebook Shows Python Basics\n",
        "\n",
        "Colab & Jupyter provides the ability to make **notebooks**. Notebooks allow you to create *text* and *code* cells. Text cells support MarkDown. Code cells require python.\n",
        "\n",
        "**Python Datatypes**\n",
        "* int\n",
        "* str\n",
        "* float\n",
        "* bool"
      ],
      "metadata": {
        "id": "h7prSzog9OuF"
      }
    },
    {
      "cell_type": "code",
      "source": [
        "x = 5           #int\n",
        "s = 'hello'     #str\n",
        "temp = 98.6     #float\n",
        "iAmSam = False  #bool\n",
        "print(x + temp)"
      ],
      "metadata": {
        "colab": {
          "base_uri": "https://localhost:8080/"
        },
        "id": "PeJZxbVIM8Bv",
        "outputId": "0baf886f-8774-4c5b-cbdb-82733e72794f"
      },
      "execution_count": 2,
      "outputs": [
        {
          "output_type": "stream",
          "name": "stdout",
          "text": [
            "103.6\n"
          ]
        }
      ]
    },
    {
      "cell_type": "markdown",
      "source": [
        "**Python Collection Types**\n",
        "* list - ordered, indexed, like an array, mutable\n",
        "* tuple - immutable list\n",
        "* dict - a hashtable, a set of key, value data pairs"
      ],
      "metadata": {
        "id": "DNr7d7nZNa70"
      }
    },
    {
      "cell_type": "code",
      "source": [
        "my_list = ['I', 'Love', 'CIS']\n",
        "my_list[2] = 'Finance'\n",
        "print(my_list[2])\n",
        "my_list2 = [3, 'hello', 'frogs', 4.3, True]\n",
        "my_tuple = ('Purple', 'Eagles')\n",
        "\n",
        "example_dict = {'triangle':3, 'square':4, 'septagon':7}\n",
        "example_dict['decagon'] = 10\n",
        "print(example_dict['septagon'])"
      ],
      "metadata": {
        "colab": {
          "base_uri": "https://localhost:8080/"
        },
        "id": "nFEYcZ_9NxIm",
        "outputId": "451f528e-9eb4-44dd-83b9-79cdd6d55a61"
      },
      "execution_count": 4,
      "outputs": [
        {
          "output_type": "stream",
          "name": "stdout",
          "text": [
            "Finance\n",
            "7\n"
          ]
        }
      ]
    },
    {
      "cell_type": "markdown",
      "source": [
        "###AI AGENT NOTES\n",
        "\n",
        "**the representation problem** - how to represent a problem in a programming language.\n"
      ],
      "metadata": {
        "id": "hxxdVcbNB7va"
      }
    },
    {
      "cell_type": "markdown",
      "source": [
        "#The Representation Problem\n",
        "How do we code states and actions of a real world problem in a programming language.\n",
        "\n",
        "**PEAS**\n",
        "\n",
        "* Performance measure\n",
        "* Environment\n",
        "  * includes state and\n",
        "  * rules for how actions update the state\n",
        "* Actions\n",
        "* Sensors - the portion of the world state that the agent can see\n",
        "\n",
        "continuous vs. discreet"
      ],
      "metadata": {
        "id": "5FUXfyQfPk0V"
      }
    }
  ]
}