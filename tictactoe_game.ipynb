{
  "nbformat": 4,
  "nbformat_minor": 0,
  "metadata": {
    "colab": {
      "provenance": [],
      "authorship_tag": "ABX9TyMClIVBQlFJE6pBie33jxRe",
      "include_colab_link": true
    },
    "kernelspec": {
      "name": "python3",
      "display_name": "Python 3"
    },
    "language_info": {
      "name": "python"
    }
  },
  "cells": [
    {
      "cell_type": "markdown",
      "metadata": {
        "id": "view-in-github",
        "colab_type": "text"
      },
      "source": [
        "<a href=\"https://colab.research.google.com/github/derwinhauser/IntroPython/blob/main/tictactoe_game.ipynb\" target=\"_parent\"><img src=\"https://colab.research.google.com/assets/colab-badge.svg\" alt=\"Open In Colab\"/></a>"
      ]
    },
    {
      "cell_type": "code",
      "execution_count": null,
      "metadata": {
        "id": "407gXS7z7XXD"
      },
      "outputs": [],
      "source": [
        "def create_state():\n",
        "  return [\"e\", \"e\", \"e\", \"e\", \"e\", \"e\", \"e\", \"e\", \"e\"]\n",
        "\n",
        "def print_state(state):\n",
        "  def printed_move(spot):\n",
        "    if state[spot] == \"e\":\n",
        "      return ' '\n",
        "    if state[spot] == \"x\":\n",
        "      return 'x'\n",
        "    if state[spot] == \"o\":\n",
        "      return 'o'\n",
        "\n",
        "  print(f\" {printed_move(0)} | {printed_move(1)} | {printed_move(2)}\")\n",
        "  print(\"---+---+---\")\n",
        "  print(f\" {printed_move(3)} | {printed_move(4)} | {printed_move(5)}\")\n",
        "  print(\"---+---+---\")\n",
        "  print(f\" {printed_move(6)} | {printed_move(7)} | {printed_move(8)}\")\n",
        "\n",
        "def move_choice():\n",
        "  input = input('Where would you like to go? ')\n",
        "  return input\n",
        "\n",
        "def main():\n",
        "  state = create_state()\n",
        "\n",
        "  while True:\n",
        "\n",
        "    print_state(state)\n",
        "\n",
        "    player_input = move_choice()\n",
        "\n",
        "    move = normalize_move(player_input)\n",
        "\n",
        "    valid = move_validator(state, move)\n",
        "    if not valid: continue\n",
        "\n",
        "    execute_move(state, move)\n",
        "\n",
        "    win_check(state)\n",
        "\n",
        "\n",
        "\n",
        "main()"
      ]
    }
  ]
}