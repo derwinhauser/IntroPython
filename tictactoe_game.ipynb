{
  "nbformat": 4,
  "nbformat_minor": 0,
  "metadata": {
    "colab": {
      "provenance": [],
      "authorship_tag": "ABX9TyPcyf38lziDeiJOFUbcq3wh",
      "include_colab_link": true
    },
    "kernelspec": {
      "name": "python3",
      "display_name": "Python 3"
    },
    "language_info": {
      "name": "python"
    }
  },
  "cells": [
    {
      "cell_type": "markdown",
      "metadata": {
        "id": "view-in-github",
        "colab_type": "text"
      },
      "source": [
        "<a href=\"https://colab.research.google.com/github/derwinhauser/IntroPython/blob/main/tictactoe_game.ipynb\" target=\"_parent\"><img src=\"https://colab.research.google.com/assets/colab-badge.svg\" alt=\"Open In Colab\"/></a>"
      ]
    },
    {
      "cell_type": "code",
      "execution_count": null,
      "metadata": {
        "id": "407gXS7z7XXD"
      },
      "outputs": [],
      "source": [
        "def create_state():\n",
        "  return [0, 0, 0, 0, 0, 0, 0, 0, 0]\n",
        "\n",
        "def print_state(state):\n",
        "  def printed_move(spot):\n",
        "    if state[spot] == 0:\n",
        "      return ' '\n",
        "    if state[spot] == \"x\":\n",
        "      return 'x'\n",
        "    if state[spot] == \"o\":\n",
        "      return 'o'\n",
        "\n",
        "  print(f\" {printed_move(0)} | {printed_move(1)} | {printed_move(2)}\")\n",
        "  print(\"---+---+---\")\n",
        "  print(f\" {printed_move(3)} | {printed_move(4)} | {printed_move(5)}\")\n",
        "  print(\"---+---+---\")\n",
        "  print(f\" {printed_move(6)} | {printed_move(7)} | {printed_move(8)}\")\n",
        "\n",
        "def move_choice():\n",
        "  choice = input('Where would you like to go? ')\n",
        "  return choice\n",
        "\n",
        "def normalize_move(move):\n",
        "  m = move.strip()\n",
        "  if m in ['1', 'one']: return 0\n",
        "  if m in ['2', 'two']: return 1\n",
        "  if m in ['3', 'three']: return 2\n",
        "  if m in  ['4', 'four']: return 3\n",
        "  if m in ['5', 'five']: return 4\n",
        "  if m in ['6', 'six']: return 5\n",
        "  if m in ['7', 'seven']: return 6\n",
        "  if m in ['8', 'eight']: return 7\n",
        "  if m in ['9', 'nine']: return 8\n",
        "  return 'invalid'\n",
        "\n",
        "def move_validator(state, move):\n",
        "  if state[move] == 0:\n",
        "    return True\n",
        "  print('**INVALID MOVE**')\n",
        "  return False\n",
        "\n",
        "def execute_move(state, player, move):\n",
        "  state[move] = player\n",
        "  return player\n",
        "\n",
        "def switch_player(player):\n",
        "  if player == 'x':\n",
        "    player = 'o'\n",
        "  else: player = 'x'\n",
        "  return player\n",
        "\n",
        "# Define win_check here\n",
        "\n",
        "def main():\n",
        "  state = create_state()\n",
        "  player = 'x'\n",
        "\n",
        "  while True:\n",
        "    print_state(state)\n",
        "\n",
        "    player_input = move_choice()\n",
        "\n",
        "    move = normalize_move(player_input)\n",
        "\n",
        "    valid = move_validator(state, move)\n",
        "    if not valid: continue\n",
        "\n",
        "    state[move] = player\n",
        "\n",
        "    # put win_check() here\n",
        "\n",
        "    player = switch_player(player)\n",
        "\n",
        "\n",
        "main()"
      ]
    },
    {
      "cell_type": "code",
      "source": [],
      "metadata": {
        "id": "MvYIUAt3-sW4"
      },
      "execution_count": null,
      "outputs": []
    }
  ]
}