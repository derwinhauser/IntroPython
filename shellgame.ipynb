{
  "nbformat": 4,
  "nbformat_minor": 0,
  "metadata": {
    "colab": {
      "provenance": [],
      "include_colab_link": true
    },
    "kernelspec": {
      "name": "python3",
      "display_name": "Python 3"
    },
    "language_info": {
      "name": "python"
    }
  },
  "cells": [
    {
      "cell_type": "markdown",
      "metadata": {
        "id": "view-in-github",
        "colab_type": "text"
      },
      "source": [
        "<a href=\"https://colab.research.google.com/github/derwinhauser/IntroPython/blob/main/shellgame.ipynb\" target=\"_parent\"><img src=\"https://colab.research.google.com/assets/colab-badge.svg\" alt=\"Open In Colab\"/></a>"
      ]
    },
    {
      "cell_type": "code",
      "execution_count": null,
      "metadata": {
        "colab": {
          "base_uri": "https://localhost:8080/"
        },
        "id": "ZeQsoQZTK-8R",
        "outputId": "42ca556a-bfbb-4b7c-95b2-7c142e70deea"
      },
      "outputs": [
        {
          "output_type": "stream",
          "name": "stdout",
          "text": [
            "['*']\n",
            "['*', '*', '*']\n",
            "['*', '*', '*', '*', '*']\n"
          ]
        }
      ],
      "source": [
        "# we implement the world state using a list\n",
        "# the shell is represented by a '*'\n",
        "# a removed shell location is represented by a '-'\n",
        "state = ['*',  '*','*','*',  '*','*','*','*','*']\n",
        "\n",
        "# prints each row in order\n",
        "def display_state(s):\n",
        "  print(s[0:1])\n",
        "  print(s[1:4])\n",
        "  print(s[4:9])\n",
        "\n",
        "display_state(state)\n",
        "\n"
      ]
    },
    {
      "cell_type": "code",
      "source": [
        "# MOVES\n",
        "#  0\n",
        "#  1, 2, 3\n",
        "#  4,5,6,7,8\n",
        "\n",
        "def update_state(state, move):\n",
        "  if state[move] != '*':\n",
        "    print('INVALID MOVE')\n",
        "  else:\n",
        "    if move >= 4:\n",
        "      for i in range(move,9):\n",
        "        state[i] = '-'\n",
        "    elif move >= 1:\n",
        "      for i in range(move,4):\n",
        "        state[i] = '-'\n",
        "    else:\n",
        "      state[0] = '-'\n",
        "\n",
        "update_state(state,3)\n",
        "display_state(state)"
      ],
      "metadata": {
        "colab": {
          "base_uri": "https://localhost:8080/"
        },
        "id": "sPgtpgEvLD23",
        "outputId": "4259d645-5522-45aa-ae29-8ee4b241f56b"
      },
      "execution_count": null,
      "outputs": [
        {
          "output_type": "stream",
          "name": "stdout",
          "text": [
            "['*']\n",
            "['*', '*', '-']\n",
            "['*', '*', '*', '*', '*']\n"
          ]
        }
      ]
    },
    {
      "cell_type": "code",
      "source": [
        "state = ['*',  '*','*','*',  '*','*','*','*','*']\n",
        "\n",
        "while True:\n",
        "  display_state(state)\n",
        "  move = int(input('What is your move? '))\n",
        "  update_state(state, move)\n",
        "  if state == ['-', '-', '-', '-','-','-','-','-', '-']:\n",
        "    print('WINNER!')\n",
        "    break\n"
      ],
      "metadata": {
        "id": "5AIfutVPLGMG",
        "outputId": "b9122764-48a3-4ada-c4f4-f34115bc4cf1",
        "colab": {
          "base_uri": "https://localhost:8080/"
        }
      },
      "execution_count": null,
      "outputs": [
        {
          "output_type": "stream",
          "name": "stdout",
          "text": [
            "['*']\n",
            "['*', '*', '*']\n",
            "['*', '*', '*', '*', '*']\n",
            "What is your move? 0\n",
            "['-']\n",
            "['*', '*', '*']\n",
            "['*', '*', '*', '*', '*']\n",
            "What is your move? 0\n",
            "INVALID MOVE\n",
            "['-']\n",
            "['*', '*', '*']\n",
            "['*', '*', '*', '*', '*']\n",
            "What is your move? 1\n",
            "['-']\n",
            "['-', '-', '-']\n",
            "['*', '*', '*', '*', '*']\n",
            "What is your move? 5\n",
            "['-']\n",
            "['-', '-', '-']\n",
            "['*', '-', '-', '-', '-']\n",
            "What is your move? 5\n",
            "INVALID MOVE\n",
            "['-']\n",
            "['-', '-', '-']\n",
            "['*', '-', '-', '-', '-']\n",
            "What is your move? 4\n",
            "WINNER!\n"
          ]
        }
      ]
    },
    {
      "cell_type": "code",
      "source": [
        "from IPython.display import clear_output\n",
        "\n",
        "def users():\n",
        "  player_1 = input('Player 1: ')\n",
        "  player_2 = input('Player 2: ')\n",
        "  return [player_1, player_2]\n",
        "\n",
        "def create_state():\n",
        "  return [1, 3, 5]\n",
        "\n",
        "def print_state(state):\n",
        "\n",
        "  def printed_numbers(row):\n",
        "    print('')\n",
        "    if state[row] == 0:\n",
        "      print('--------- \\n')\n",
        "    if state[row] == 1:\n",
        "      print('    o \\n')\n",
        "    if state[row] == 2:\n",
        "      print('   o o \\n')\n",
        "    if state[row] == 3:\n",
        "      print('  o o o \\n')\n",
        "    if state[row] == 4:\n",
        "      print(' o o o o \\n')\n",
        "    if state[row] == 5:\n",
        "      print('o o o o o \\n')\n",
        "  printed_numbers(0)\n",
        "  printed_numbers(1)\n",
        "  printed_numbers(2)\n",
        "\n",
        "def normalize_row(text):\n",
        "  t = text.strip().lower()\n",
        "  if t in (\"1\", \"one\"): return 0\n",
        "  if t in (\"2\", \"two\"): return 1\n",
        "  if t in (\"3\", \"three\"): return 2\n",
        "  return \"invalid\"\n",
        "\n",
        "def normalize_quantity(number):\n",
        "  t = number.strip().lower()\n",
        "  if t in ('1', 'one'): return 1\n",
        "  if t in ('2', 'two'): return 2\n",
        "  if t in ('3', 'three'): return 3\n",
        "  if t in ('4', 'four'): return 4\n",
        "  if t in ('5', 'five'): return 5\n",
        "  return 'invalid'\n",
        "\n",
        "def remove_shell(state, row, quantity):\n",
        "  current = state[row]\n",
        "  new = current - quantity\n",
        "  clear_output()\n",
        "  return new\n",
        "\n",
        "def validate_row(state, row):\n",
        "  if state[row] == 0:\n",
        "    clear_output()\n",
        "    print('There are no shells in this row.\\n Please choose another row.')\n",
        "    return False\n",
        "  else: return True\n",
        "\n",
        "def validate_quantity(state, row, quantity):\n",
        "  if state[row] - quantity < 0:\n",
        "    clear_output()\n",
        "    print('You are trying to remove too many shells from this row.\\n Please try again')\n",
        "    return False\n",
        "  else: return True\n",
        "\n",
        "def switch_player(users, player):\n",
        "  if player == users[0]: return users[1]\n",
        "  else: return users[0]\n",
        "\n",
        "def win_check(state, player, users):\n",
        "\n",
        "  if state[0] == state[1] == state[2] == 0:\n",
        "    loser = player\n",
        "    winner = switch_player(users, player)\n",
        "    print(loser + ', YOU LOSE!')\n",
        "    print(winner + ' WINS!')\n",
        "    return True\n",
        "\n",
        "def main():\n",
        "  usernames = users()\n",
        "  player_1 = usernames[0].capitalize()\n",
        "  player_2 = usernames[1].capitalize()\n",
        "  current_player = player_1\n",
        "  state = create_state()\n",
        "\n",
        "  while True:\n",
        "\n",
        "    print(current_player + \"'s Turn\")\n",
        "    print_state(state)\n",
        "\n",
        "    raw_row = input('What row would you like to remove shells from? ')\n",
        "    row = normalize_row(raw_row)\n",
        "\n",
        "    if row == \"invalid\":\n",
        "      clear_output()\n",
        "      print('**INVALID CHOICE')\n",
        "      continue\n",
        "\n",
        "    valid = validate_row(state, row)\n",
        "    if not valid: continue\n",
        "\n",
        "    raw_quantity =  input('How many shells are you removing? ')\n",
        "    quantity = normalize_quantity(raw_quantity)\n",
        "\n",
        "    if quantity == 'invalid':\n",
        "      clear_output()\n",
        "      print('**INVALID CHOICE')\n",
        "      continue\n",
        "\n",
        "    valid = validate_quantity(state, row, quantity)\n",
        "    if not valid: continue\n",
        "\n",
        "    state[row] = remove_shell(state, row, quantity)\n",
        "\n",
        "    win = win_check(state, current_player, usernames)\n",
        "\n",
        "    if win: break\n",
        "\n",
        "    current_player = switch_player(usernames, current_player)\n",
        "\n",
        "main()"
      ],
      "metadata": {
        "id": "BN_6yaeEjM0J",
        "outputId": "4b34a600-e02d-41ba-fe67-4dab2eaefaa7",
        "colab": {
          "base_uri": "https://localhost:8080/"
        }
      },
      "execution_count": 28,
      "outputs": [
        {
          "output_type": "stream",
          "name": "stdout",
          "text": [
            "Derwin, YOU LOSE!\n",
            "Ty WINS!\n"
          ]
        }
      ]
    },
    {
      "cell_type": "code",
      "source": [
        "\n",
        "def validate_row(state, row):\n",
        "  if state[row] == 0:\n",
        "    clear_output()\n",
        "    print('There are no shells in this row.\\n Please choose another row.')\n",
        "    return False\n",
        "  else: return True\n",
        "\n",
        "def validate_quantity(state, row, quantity):\n",
        "  if state[row] - quantity < 0:\n",
        "    clear_output()\n",
        "    print('You are trying to remove too many shells from this row.\\n Please try again')\n",
        "  else: return False\n",
        "\n"
      ],
      "metadata": {
        "id": "yVB7W0PEj9JJ"
      },
      "execution_count": null,
      "outputs": []
    },
    {
      "cell_type": "code",
      "source": [
        "nums = [1, 3, 5]\n",
        "new = nums[2] - 2\n",
        "print(new)"
      ],
      "metadata": {
        "colab": {
          "base_uri": "https://localhost:8080/"
        },
        "id": "oZxKYgNkgjOY",
        "outputId": "e842f703-2404-4672-cd51-470d22e03f13"
      },
      "execution_count": null,
      "outputs": [
        {
          "output_type": "stream",
          "name": "stdout",
          "text": [
            "3\n"
          ]
        }
      ]
    }
  ]
}