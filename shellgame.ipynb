{
  "nbformat": 4,
  "nbformat_minor": 0,
  "metadata": {
    "colab": {
      "provenance": [],
      "include_colab_link": true
    },
    "kernelspec": {
      "name": "python3",
      "display_name": "Python 3"
    },
    "language_info": {
      "name": "python"
    }
  },
  "cells": [
    {
      "cell_type": "markdown",
      "metadata": {
        "id": "view-in-github",
        "colab_type": "text"
      },
      "source": [
        "<a href=\"https://colab.research.google.com/github/derwinhauser/IntroPython/blob/main/shellgame.ipynb\" target=\"_parent\"><img src=\"https://colab.research.google.com/assets/colab-badge.svg\" alt=\"Open In Colab\"/></a>"
      ]
    },
    {
      "cell_type": "code",
      "execution_count": null,
      "metadata": {
        "colab": {
          "base_uri": "https://localhost:8080/"
        },
        "id": "ZeQsoQZTK-8R",
        "outputId": "42ca556a-bfbb-4b7c-95b2-7c142e70deea"
      },
      "outputs": [
        {
          "output_type": "stream",
          "name": "stdout",
          "text": [
            "['*']\n",
            "['*', '*', '*']\n",
            "['*', '*', '*', '*', '*']\n"
          ]
        }
      ],
      "source": [
        "# we implement the world state using a list\n",
        "# the shell is represented by a '*'\n",
        "# a removed shell location is represented by a '-'\n",
        "state = ['*',  '*','*','*',  '*','*','*','*','*']\n",
        "\n",
        "# prints each row in order\n",
        "def display_state(s):\n",
        "  print(s[0:1])\n",
        "  print(s[1:4])\n",
        "  print(s[4:9])\n",
        "\n",
        "display_state(state)\n",
        "\n"
      ]
    },
    {
      "cell_type": "code",
      "source": [
        "# MOVES\n",
        "#  0\n",
        "#  1, 2, 3\n",
        "#  4,5,6,7,8\n",
        "\n",
        "def update_state(state, move):\n",
        "  if state[move] != '*':\n",
        "    print('INVALID MOVE')\n",
        "  else:\n",
        "    if move >= 4:\n",
        "      for i in range(move,9):\n",
        "        state[i] = '-'\n",
        "    elif move >= 1:\n",
        "      for i in range(move,4):\n",
        "        state[i] = '-'\n",
        "    else:\n",
        "      state[0] = '-'\n",
        "\n",
        "update_state(state,3)\n",
        "display_state(state)"
      ],
      "metadata": {
        "colab": {
          "base_uri": "https://localhost:8080/"
        },
        "id": "sPgtpgEvLD23",
        "outputId": "4259d645-5522-45aa-ae29-8ee4b241f56b"
      },
      "execution_count": null,
      "outputs": [
        {
          "output_type": "stream",
          "name": "stdout",
          "text": [
            "['*']\n",
            "['*', '*', '-']\n",
            "['*', '*', '*', '*', '*']\n"
          ]
        }
      ]
    },
    {
      "cell_type": "code",
      "source": [
        "state = ['*',  '*','*','*',  '*','*','*','*','*']\n",
        "\n",
        "while True:\n",
        "  display_state(state)\n",
        "  move = int(input('What is your move? '))\n",
        "  update_state(state, move)\n",
        "  if state == ['-', '-', '-', '-','-','-','-','-', '-']:\n",
        "    print('WINNER!')\n",
        "    break\n"
      ],
      "metadata": {
        "id": "5AIfutVPLGMG",
        "outputId": "b9122764-48a3-4ada-c4f4-f34115bc4cf1",
        "colab": {
          "base_uri": "https://localhost:8080/"
        }
      },
      "execution_count": null,
      "outputs": [
        {
          "output_type": "stream",
          "name": "stdout",
          "text": [
            "['*']\n",
            "['*', '*', '*']\n",
            "['*', '*', '*', '*', '*']\n",
            "What is your move? 0\n",
            "['-']\n",
            "['*', '*', '*']\n",
            "['*', '*', '*', '*', '*']\n",
            "What is your move? 0\n",
            "INVALID MOVE\n",
            "['-']\n",
            "['*', '*', '*']\n",
            "['*', '*', '*', '*', '*']\n",
            "What is your move? 1\n",
            "['-']\n",
            "['-', '-', '-']\n",
            "['*', '*', '*', '*', '*']\n",
            "What is your move? 5\n",
            "['-']\n",
            "['-', '-', '-']\n",
            "['*', '-', '-', '-', '-']\n",
            "What is your move? 5\n",
            "INVALID MOVE\n",
            "['-']\n",
            "['-', '-', '-']\n",
            "['*', '-', '-', '-', '-']\n",
            "What is your move? 4\n",
            "WINNER!\n"
          ]
        }
      ]
    },
    {
      "cell_type": "code",
      "source": [
        "from IPython.display import clear_output\n",
        "\n",
        "\n",
        "def create_state():\n",
        "  return [1, 3, 5]\n",
        "\n",
        "def print_state(state):\n",
        "\n",
        "  def printed_numbers(row):\n",
        "    if state[row] == 1:\n",
        "      print('o \\n')\n",
        "    if state[row] == 2:\n",
        "      print('o o \\n')\n",
        "    if state[row] == 3:\n",
        "      print('o o o \\n')\n",
        "    if state[row] == 4:\n",
        "      print('o o o o \\n')\n",
        "    if state[row] == 5:\n",
        "      print('o o o o o \\n')\n",
        "  printed_numbers(0)\n",
        "  printed_numbers(1)\n",
        "  printed_numbers(2)\n",
        "\n",
        "def normalize_row(text):\n",
        "  t = text.strip().lower()\n",
        "  if t in (\"1\", \"one\"): return 0\n",
        "  if t in (\"2\", \"two\"): return 1\n",
        "  if t in (\"3\", \"three\"): return 2\n",
        "  return \"invalid\"\n",
        "\n",
        "def normalize_quantity(number):\n",
        "  t = number.strip().lower()\n",
        "  if t in ('1', 'one'): return 1\n",
        "  if t in ('2', 'two'): return 2\n",
        "  if t in ('3', 'three'): return 3\n",
        "  if t in ('4', 'four'): return 4\n",
        "  if t in ('5', 'five'): return 5\n",
        "  return 'invalid'\n",
        "\n",
        "def remove_shell(state, row, quantity):\n",
        "  current = state[row]\n",
        "  new = current - quantity\n",
        "  return new\n",
        "\n",
        "def main():\n",
        "  state = create_state()\n",
        "\n",
        "  while True:\n",
        "    print_state(state)\n",
        "    raw_row = input('What row would you like to remove shells from? ')\n",
        "    row = normalize_row(raw_row)\n",
        "\n",
        "    if row == \"invalid\":\n",
        "      clear_output()\n",
        "      print('**INVALID CHOICE')\n",
        "      continue\n",
        "\n",
        "    raw_quantity =  input('How many shells are you removing? ')\n",
        "    quantity = normalize_quantity(raw_quantity)\n",
        "\n",
        "    if quantity == 'invalid':\n",
        "      clear_output()\n",
        "      print('**INVALID CHOICE')\n",
        "      continue\n",
        "\n",
        "    state = remove_shell(state, row, quantity)\n",
        "\n",
        "main()"
      ],
      "metadata": {
        "id": "BN_6yaeEjM0J",
        "outputId": "252ecbd0-4ef2-47b3-e8b4-f01bee1c10b8",
        "colab": {
          "base_uri": "https://localhost:8080/",
          "height": 443
        }
      },
      "execution_count": 26,
      "outputs": [
        {
          "output_type": "stream",
          "name": "stdout",
          "text": [
            "**INVALID CHOICE\n",
            "o \n",
            "\n",
            "o o o \n",
            "\n",
            "o o o o o \n",
            "\n"
          ]
        },
        {
          "output_type": "error",
          "ename": "KeyboardInterrupt",
          "evalue": "Interrupted by user",
          "traceback": [
            "\u001b[0;31m---------------------------------------------------------------------------\u001b[0m",
            "\u001b[0;31mKeyboardInterrupt\u001b[0m                         Traceback (most recent call last)",
            "\u001b[0;32m/tmp/ipython-input-1333319569.py\u001b[0m in \u001b[0;36m<cell line: 0>\u001b[0;34m()\u001b[0m\n\u001b[1;32m     66\u001b[0m     \u001b[0mstate\u001b[0m \u001b[0;34m=\u001b[0m \u001b[0mremove_shell\u001b[0m\u001b[0;34m(\u001b[0m\u001b[0mstate\u001b[0m\u001b[0;34m,\u001b[0m \u001b[0mrow\u001b[0m\u001b[0;34m,\u001b[0m \u001b[0mquantity\u001b[0m\u001b[0;34m)\u001b[0m\u001b[0;34m\u001b[0m\u001b[0;34m\u001b[0m\u001b[0m\n\u001b[1;32m     67\u001b[0m \u001b[0;34m\u001b[0m\u001b[0m\n\u001b[0;32m---> 68\u001b[0;31m \u001b[0mmain\u001b[0m\u001b[0;34m(\u001b[0m\u001b[0;34m)\u001b[0m\u001b[0;34m\u001b[0m\u001b[0;34m\u001b[0m\u001b[0m\n\u001b[0m",
            "\u001b[0;32m/tmp/ipython-input-1333319569.py\u001b[0m in \u001b[0;36mmain\u001b[0;34m()\u001b[0m\n\u001b[1;32m     48\u001b[0m   \u001b[0;32mwhile\u001b[0m \u001b[0;32mTrue\u001b[0m\u001b[0;34m:\u001b[0m\u001b[0;34m\u001b[0m\u001b[0;34m\u001b[0m\u001b[0m\n\u001b[1;32m     49\u001b[0m     \u001b[0mprint_state\u001b[0m\u001b[0;34m(\u001b[0m\u001b[0mstate\u001b[0m\u001b[0;34m)\u001b[0m\u001b[0;34m\u001b[0m\u001b[0;34m\u001b[0m\u001b[0m\n\u001b[0;32m---> 50\u001b[0;31m     \u001b[0mraw_row\u001b[0m \u001b[0;34m=\u001b[0m \u001b[0minput\u001b[0m\u001b[0;34m(\u001b[0m\u001b[0;34m'What row would you like to remove shells from? '\u001b[0m\u001b[0;34m)\u001b[0m\u001b[0;34m\u001b[0m\u001b[0;34m\u001b[0m\u001b[0m\n\u001b[0m\u001b[1;32m     51\u001b[0m     \u001b[0mrow\u001b[0m \u001b[0;34m=\u001b[0m \u001b[0mnormalize_row\u001b[0m\u001b[0;34m(\u001b[0m\u001b[0mraw_row\u001b[0m\u001b[0;34m)\u001b[0m\u001b[0;34m\u001b[0m\u001b[0;34m\u001b[0m\u001b[0m\n\u001b[1;32m     52\u001b[0m \u001b[0;34m\u001b[0m\u001b[0m\n",
            "\u001b[0;32m/usr/local/lib/python3.12/dist-packages/ipykernel/kernelbase.py\u001b[0m in \u001b[0;36mraw_input\u001b[0;34m(self, prompt)\u001b[0m\n\u001b[1;32m   1175\u001b[0m                 \u001b[0;34m\"raw_input was called, but this frontend does not support input requests.\"\u001b[0m\u001b[0;34m\u001b[0m\u001b[0;34m\u001b[0m\u001b[0m\n\u001b[1;32m   1176\u001b[0m             )\n\u001b[0;32m-> 1177\u001b[0;31m         return self._input_request(\n\u001b[0m\u001b[1;32m   1178\u001b[0m             \u001b[0mstr\u001b[0m\u001b[0;34m(\u001b[0m\u001b[0mprompt\u001b[0m\u001b[0;34m)\u001b[0m\u001b[0;34m,\u001b[0m\u001b[0;34m\u001b[0m\u001b[0;34m\u001b[0m\u001b[0m\n\u001b[1;32m   1179\u001b[0m             \u001b[0mself\u001b[0m\u001b[0;34m.\u001b[0m\u001b[0m_parent_ident\u001b[0m\u001b[0;34m[\u001b[0m\u001b[0;34m\"shell\"\u001b[0m\u001b[0;34m]\u001b[0m\u001b[0;34m,\u001b[0m\u001b[0;34m\u001b[0m\u001b[0;34m\u001b[0m\u001b[0m\n",
            "\u001b[0;32m/usr/local/lib/python3.12/dist-packages/ipykernel/kernelbase.py\u001b[0m in \u001b[0;36m_input_request\u001b[0;34m(self, prompt, ident, parent, password)\u001b[0m\n\u001b[1;32m   1217\u001b[0m             \u001b[0;32mexcept\u001b[0m \u001b[0mKeyboardInterrupt\u001b[0m\u001b[0;34m:\u001b[0m\u001b[0;34m\u001b[0m\u001b[0;34m\u001b[0m\u001b[0m\n\u001b[1;32m   1218\u001b[0m                 \u001b[0;31m# re-raise KeyboardInterrupt, to truncate traceback\u001b[0m\u001b[0;34m\u001b[0m\u001b[0;34m\u001b[0m\u001b[0m\n\u001b[0;32m-> 1219\u001b[0;31m                 \u001b[0;32mraise\u001b[0m \u001b[0mKeyboardInterrupt\u001b[0m\u001b[0;34m(\u001b[0m\u001b[0;34m\"Interrupted by user\"\u001b[0m\u001b[0;34m)\u001b[0m \u001b[0;32mfrom\u001b[0m \u001b[0;32mNone\u001b[0m\u001b[0;34m\u001b[0m\u001b[0;34m\u001b[0m\u001b[0m\n\u001b[0m\u001b[1;32m   1220\u001b[0m             \u001b[0;32mexcept\u001b[0m \u001b[0mException\u001b[0m\u001b[0;34m:\u001b[0m\u001b[0;34m\u001b[0m\u001b[0;34m\u001b[0m\u001b[0m\n\u001b[1;32m   1221\u001b[0m                 \u001b[0mself\u001b[0m\u001b[0;34m.\u001b[0m\u001b[0mlog\u001b[0m\u001b[0;34m.\u001b[0m\u001b[0mwarning\u001b[0m\u001b[0;34m(\u001b[0m\u001b[0;34m\"Invalid Message:\"\u001b[0m\u001b[0;34m,\u001b[0m \u001b[0mexc_info\u001b[0m\u001b[0;34m=\u001b[0m\u001b[0;32mTrue\u001b[0m\u001b[0;34m)\u001b[0m\u001b[0;34m\u001b[0m\u001b[0;34m\u001b[0m\u001b[0m\n",
            "\u001b[0;31mKeyboardInterrupt\u001b[0m: Interrupted by user"
          ]
        }
      ]
    },
    {
      "cell_type": "code",
      "source": [
        "  def users():\n",
        "  player_1 = input('Player 1: ')\n",
        "  player_2 = input('Player 2: ')\n",
        "  return [player_1, player_2]\n",
        "\n",
        "\n",
        "  username = users()\n",
        "  player_1 = username[0]\n",
        "  player_2 = username[1]"
      ],
      "metadata": {
        "id": "yVB7W0PEj9JJ"
      },
      "execution_count": null,
      "outputs": []
    },
    {
      "cell_type": "code",
      "source": [
        "nums = [1, 3, 5]\n",
        "new = nums[2] - 2\n",
        "print(new)"
      ],
      "metadata": {
        "id": "oZxKYgNkgjOY",
        "outputId": "e842f703-2404-4672-cd51-470d22e03f13",
        "colab": {
          "base_uri": "https://localhost:8080/"
        }
      },
      "execution_count": 13,
      "outputs": [
        {
          "output_type": "stream",
          "name": "stdout",
          "text": [
            "3\n"
          ]
        }
      ]
    }
  ]
}