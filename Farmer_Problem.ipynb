{
  "nbformat": 4,
  "nbformat_minor": 0,
  "metadata": {
    "colab": {
      "provenance": [],
      "authorship_tag": "ABX9TyO7MeYuKYfDnMRe1cUZT31v",
      "include_colab_link": true
    },
    "kernelspec": {
      "name": "python3",
      "display_name": "Python 3"
    },
    "language_info": {
      "name": "python"
    }
  },
  "cells": [
    {
      "cell_type": "markdown",
      "metadata": {
        "id": "view-in-github",
        "colab_type": "text"
      },
      "source": [
        "<a href=\"https://colab.research.google.com/github/derwinhauser/IntroPython/blob/main/Farmer_Problem.ipynb\" target=\"_parent\"><img src=\"https://colab.research.google.com/assets/colab-badge.svg\" alt=\"Open In Colab\"/></a>"
      ]
    },
    {
      "cell_type": "code",
      "execution_count": 19,
      "metadata": {
        "id": "kOQEaWBuaSn3",
        "colab": {
          "base_uri": "https://localhost:8080/",
          "height": 426
        },
        "outputId": "61a5b125-5154-4790-876e-e9bd37901952"
      },
      "outputs": [
        {
          "output_type": "stream",
          "name": "stdout",
          "text": [
            "Derwin\n",
            "WOLF\n",
            "SHEEP\n",
            "OATS\n",
            "==================\n",
            "\n"
          ]
        },
        {
          "output_type": "error",
          "ename": "KeyboardInterrupt",
          "evalue": "Interrupted by user",
          "traceback": [
            "\u001b[0;31m---------------------------------------------------------------------------\u001b[0m",
            "\u001b[0;31mKeyboardInterrupt\u001b[0m                         Traceback (most recent call last)",
            "\u001b[0;32m/tmp/ipython-input-2679328174.py\u001b[0m in \u001b[0;36m<cell line: 0>\u001b[0;34m()\u001b[0m\n\u001b[1;32m    125\u001b[0m \u001b[0;31m# Running code\u001b[0m\u001b[0;34m\u001b[0m\u001b[0;34m\u001b[0m\u001b[0m\n\u001b[1;32m    126\u001b[0m \u001b[0minstructions\u001b[0m\u001b[0;34m(\u001b[0m\u001b[0;34m)\u001b[0m\u001b[0;34m\u001b[0m\u001b[0;34m\u001b[0m\u001b[0m\n\u001b[0;32m--> 127\u001b[0;31m \u001b[0mprint_state\u001b[0m\u001b[0;34m(\u001b[0m\u001b[0;34m)\u001b[0m\u001b[0;34m\u001b[0m\u001b[0;34m\u001b[0m\u001b[0m\n\u001b[0m",
            "\u001b[0;32m/tmp/ipython-input-2679328174.py\u001b[0m in \u001b[0;36mprint_state\u001b[0;34m()\u001b[0m\n\u001b[1;32m     58\u001b[0m \u001b[0;34m\u001b[0m\u001b[0m\n\u001b[1;32m     59\u001b[0m   \u001b[0;31m# Call the move function\u001b[0m\u001b[0;34m\u001b[0m\u001b[0;34m\u001b[0m\u001b[0m\n\u001b[0;32m---> 60\u001b[0;31m   \u001b[0;32mreturn\u001b[0m \u001b[0mmove\u001b[0m\u001b[0;34m(\u001b[0m\u001b[0;34m)\u001b[0m\u001b[0;34m\u001b[0m\u001b[0;34m\u001b[0m\u001b[0m\n\u001b[0m\u001b[1;32m     61\u001b[0m \u001b[0;34m\u001b[0m\u001b[0m\n\u001b[1;32m     62\u001b[0m \u001b[0;34m\u001b[0m\u001b[0m\n",
            "\u001b[0;32m/tmp/ipython-input-2679328174.py\u001b[0m in \u001b[0;36mmove\u001b[0;34m()\u001b[0m\n\u001b[1;32m     64\u001b[0m   \u001b[0;31m# Asks the user what they are bringing across the river\u001b[0m\u001b[0;34m\u001b[0m\u001b[0;34m\u001b[0m\u001b[0m\n\u001b[1;32m     65\u001b[0m   \u001b[0;31m# Validates whether they are allowed to bring their choice across the river\u001b[0m\u001b[0;34m\u001b[0m\u001b[0;34m\u001b[0m\u001b[0m\n\u001b[0;32m---> 66\u001b[0;31m   \u001b[0mmove\u001b[0m \u001b[0;34m=\u001b[0m \u001b[0minput\u001b[0m\u001b[0;34m(\u001b[0m\u001b[0;34m'What are you bringing across the river?'\u001b[0m\u001b[0;34m)\u001b[0m\u001b[0;34m.\u001b[0m\u001b[0mlower\u001b[0m\u001b[0;34m(\u001b[0m\u001b[0;34m)\u001b[0m\u001b[0;34m\u001b[0m\u001b[0;34m\u001b[0m\u001b[0m\n\u001b[0m\u001b[1;32m     67\u001b[0m \u001b[0;34m\u001b[0m\u001b[0m\n\u001b[1;32m     68\u001b[0m   \u001b[0mprint\u001b[0m\u001b[0;34m(\u001b[0m\u001b[0;34m''\u001b[0m\u001b[0;34m)\u001b[0m\u001b[0;34m\u001b[0m\u001b[0;34m\u001b[0m\u001b[0m\n",
            "\u001b[0;32m/usr/local/lib/python3.12/dist-packages/ipykernel/kernelbase.py\u001b[0m in \u001b[0;36mraw_input\u001b[0;34m(self, prompt)\u001b[0m\n\u001b[1;32m   1175\u001b[0m                 \u001b[0;34m\"raw_input was called, but this frontend does not support input requests.\"\u001b[0m\u001b[0;34m\u001b[0m\u001b[0;34m\u001b[0m\u001b[0m\n\u001b[1;32m   1176\u001b[0m             )\n\u001b[0;32m-> 1177\u001b[0;31m         return self._input_request(\n\u001b[0m\u001b[1;32m   1178\u001b[0m             \u001b[0mstr\u001b[0m\u001b[0;34m(\u001b[0m\u001b[0mprompt\u001b[0m\u001b[0;34m)\u001b[0m\u001b[0;34m,\u001b[0m\u001b[0;34m\u001b[0m\u001b[0;34m\u001b[0m\u001b[0m\n\u001b[1;32m   1179\u001b[0m             \u001b[0mself\u001b[0m\u001b[0;34m.\u001b[0m\u001b[0m_parent_ident\u001b[0m\u001b[0;34m[\u001b[0m\u001b[0;34m\"shell\"\u001b[0m\u001b[0;34m]\u001b[0m\u001b[0;34m,\u001b[0m\u001b[0;34m\u001b[0m\u001b[0;34m\u001b[0m\u001b[0m\n",
            "\u001b[0;32m/usr/local/lib/python3.12/dist-packages/ipykernel/kernelbase.py\u001b[0m in \u001b[0;36m_input_request\u001b[0;34m(self, prompt, ident, parent, password)\u001b[0m\n\u001b[1;32m   1217\u001b[0m             \u001b[0;32mexcept\u001b[0m \u001b[0mKeyboardInterrupt\u001b[0m\u001b[0;34m:\u001b[0m\u001b[0;34m\u001b[0m\u001b[0;34m\u001b[0m\u001b[0m\n\u001b[1;32m   1218\u001b[0m                 \u001b[0;31m# re-raise KeyboardInterrupt, to truncate traceback\u001b[0m\u001b[0;34m\u001b[0m\u001b[0;34m\u001b[0m\u001b[0m\n\u001b[0;32m-> 1219\u001b[0;31m                 \u001b[0;32mraise\u001b[0m \u001b[0mKeyboardInterrupt\u001b[0m\u001b[0;34m(\u001b[0m\u001b[0;34m\"Interrupted by user\"\u001b[0m\u001b[0;34m)\u001b[0m \u001b[0;32mfrom\u001b[0m \u001b[0;32mNone\u001b[0m\u001b[0;34m\u001b[0m\u001b[0;34m\u001b[0m\u001b[0m\n\u001b[0m\u001b[1;32m   1220\u001b[0m             \u001b[0;32mexcept\u001b[0m \u001b[0mException\u001b[0m\u001b[0;34m:\u001b[0m\u001b[0;34m\u001b[0m\u001b[0;34m\u001b[0m\u001b[0m\n\u001b[1;32m   1221\u001b[0m                 \u001b[0mself\u001b[0m\u001b[0;34m.\u001b[0m\u001b[0mlog\u001b[0m\u001b[0;34m.\u001b[0m\u001b[0mwarning\u001b[0m\u001b[0;34m(\u001b[0m\u001b[0;34m\"Invalid Message:\"\u001b[0m\u001b[0;34m,\u001b[0m \u001b[0mexc_info\u001b[0m\u001b[0;34m=\u001b[0m\u001b[0;32mTrue\u001b[0m\u001b[0;34m)\u001b[0m\u001b[0;34m\u001b[0m\u001b[0;34m\u001b[0m\u001b[0m\n",
            "\u001b[0;31mKeyboardInterrupt\u001b[0m: Interrupted by user"
          ]
        }
      ],
      "source": [
        "import sys\n",
        "from IPython.display import clear_output\n",
        "\n",
        "farmer_is_on_top = True\n",
        "wolf_is_on_top = True\n",
        "sheep_is_on_top = True\n",
        "oats_is_on_top = True\n",
        "\n",
        "def instructions():\n",
        "  # Lays out instructions for the user playing the game.\n",
        "  # Also asks for their name and saves it with the variable 'user'\n",
        "  global user\n",
        "  print('**RULES  &  OBJECTIVE**')\n",
        "  print('You are a farmer looking to cross a river with your pet wolf, pet sheep, and a bag of oats.')\n",
        "  print('You may only cross the river with one animal/item at a time.')\n",
        "  print('If you leave the wolf and sheep alone together, the wolf will eat the sheep.')\n",
        "  print('If you leave the sheep and the oats alone together, the sheep will eat the bag of oats.')\n",
        "  print('Find a way to bring the wolf, sheep and oats across the river, one at a time, without the sheep or oats being eaten.\\n')\n",
        "  print('If at any time you wish to bring nothing across the river for your move, type \"nothing\" or \"n\"\\n')\n",
        "  user = input('What is your name? ')\n",
        "  print('')\n",
        "\n",
        "def move_farmer():\n",
        "  # custom function that moves the farmer across the river\n",
        "  global farmer_is_on_top\n",
        "  farmer_is_on_top = not farmer_is_on_top\n",
        "\n",
        "def print_state():\n",
        "  # function that prints the user, sheep, wolf and oats on their respective side of the river\n",
        "  global user\n",
        "  #Clears all previous outputs\n",
        "  clear_output()\n",
        "  #Top of the riverbank\n",
        "  if farmer_is_on_top:\n",
        "    print(user)\n",
        "  if wolf_is_on_top:\n",
        "    print('WOLF')\n",
        "  if sheep_is_on_top:\n",
        "    print('SHEEP')\n",
        "  if oats_is_on_top:\n",
        "    print('OATS')\n",
        "\n",
        "  # Riverbank\n",
        "  print('==================')\n",
        "\n",
        "  # Bottom of the riverbank\n",
        "  if farmer_is_on_top == False:\n",
        "    print(user)\n",
        "  if wolf_is_on_top == False:\n",
        "    print('WOLF')\n",
        "  if sheep_is_on_top == False:\n",
        "    print('SHEEP')\n",
        "  if oats_is_on_top == False:\n",
        "    print('OATS')\n",
        "  print('')\n",
        "\n",
        "  win_check()\n",
        "\n",
        "  # Call the move function\n",
        "  return move()\n",
        "\n",
        "\n",
        "def move():\n",
        "  # Asks the user what they are bringing across the river\n",
        "  # Validates whether they are allowed to bring their choice across the river\n",
        "  move = input('What are you bringing across the river?').lower()\n",
        "\n",
        "  print('')\n",
        "  global farmer_is_on_top\n",
        "  global wolf_is_on_top\n",
        "  global sheep_is_on_top\n",
        "  global oats_is_on_top\n",
        "  if move == \"wolf\":\n",
        "    if farmer_is_on_top == wolf_is_on_top:\n",
        "      move_farmer()\n",
        "      wolf_is_on_top = not wolf_is_on_top\n",
        "      move_validator()\n",
        "    else:\n",
        "      print('**YOUT ARE NOT ON SAME SIDE AS WOLF**\\n')\n",
        "  elif move == \"sheep\":\n",
        "    if farmer_is_on_top == sheep_is_on_top:\n",
        "      move_farmer()\n",
        "      sheep_is_on_top = not sheep_is_on_top\n",
        "      move_validator()\n",
        "    else:\n",
        "      print('**YOU ARE NOT ON SAME SIDE AS SHEEP**\\n')\n",
        "  elif move == \"oats\":\n",
        "    if farmer_is_on_top == oats_is_on_top:\n",
        "      move_farmer()\n",
        "      oats_is_on_top = not oats_is_on_top\n",
        "      move_validator()\n",
        "    else:\n",
        "      print('**YOU ARE NOT ON SAME SIDE AS OATS**\\n')\n",
        "  elif move[0] == 'n':\n",
        "    move_farmer()\n",
        "    move_validator()\n",
        "  else:\n",
        "    print('**INVALID MOVE**')\n",
        "    print('')\n",
        "  return print_state()\n",
        "\n",
        "\n",
        "def move_validator():\n",
        "  # Determines if the sheep is eaten by the wolf or if the oats are eaten by the sheep\n",
        "  # If either are eaten, the game is ended and the player loses\n",
        "  if sheep_is_on_top == oats_is_on_top != farmer_is_on_top:\n",
        "    print('The sheep has eaten the oats.')\n",
        "    print('YOU LOSE\\n')\n",
        "    sys.exit()\n",
        "  if wolf_is_on_top == sheep_is_on_top != farmer_is_on_top:\n",
        "    print('The wolf has eaten the sheep')\n",
        "    print('YOU LOSE\\n')\n",
        "    sys.exit()\n",
        "\n",
        "\n",
        "def win_check():\n",
        "  # Checks if all entities are on the bottom of the river\n",
        "  # If all are across, the game ends and the player wins, otherwise this function does nothing\n",
        "  if farmer_is_on_top == wolf_is_on_top == sheep_is_on_top == oats_is_on_top == False:\n",
        "    print('CONGRATS!\\n YOU WIN!')\n",
        "    sys.exit()\n",
        "  else:\n",
        "    return\n",
        "\n",
        "# Running code\n",
        "instructions()\n",
        "print_state()"
      ]
    },
    {
      "cell_type": "markdown",
      "source": [],
      "metadata": {
        "id": "b7Pm4SI3Bqc5"
      }
    },
    {
      "cell_type": "code",
      "source": [],
      "metadata": {
        "id": "D4tZno349oGa"
      },
      "execution_count": null,
      "outputs": []
    }
  ]
}